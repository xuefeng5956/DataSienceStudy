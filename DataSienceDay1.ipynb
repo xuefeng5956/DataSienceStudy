{
 "cells": [
  {
   "cell_type": "markdown",
   "metadata": {},
   "source": [
    "# 什么是数据分析\n",
    "数据分析是指用适当的统计分析方法对收集来的大量数据进行分析，提取有用的信息和形成结论而对数据加以详细研究和概括总结的过程\n",
    "\n",
    "# 使用Python做数据分析的常用库\n",
    "1. numpy 基础数值算法\n",
    "2. scipy 科学计算\n",
    "3. matplotlib 数据可视化\n",
    "4. pandas 序列高级函数\n",
    "\n",
    "# numpy 概述\n",
    "1. Numerical Python，数值的Python，补充了Python语言所欠缺的数值计算能力。\n",
    "2. Numpy是其他数据分析及机器学习库的底层库。\n",
    "3. Numpy完全标准C语言实现，运行效率充分优化。\n",
    "4. Numpy开源免费\n",
    "\n",
    "# numpy的核心：多维数组\n",
    "1. 代码简洁：减少Python代码中的循环\n",
    "2. 底层实现：厚内核（C）+薄接口（Python），保证性能\n",
    "\n",
    "# numpy 基础\n",
    "## ndarray数组\n",
    "用np.ndarray类的对象表示n维数组\n",
    "\n",
    "数组的维度: np.ndarray.shape\n",
    "\n",
    "元素的类型：np.ndarry.dtype"
   ]
  },
  {
   "cell_type": "code",
   "execution_count": 24,
   "metadata": {},
   "outputs": [
    {
     "name": "stdout",
     "output_type": "stream",
     "text": [
      "[1 2 3 4 5 6] <class 'numpy.ndarray'>\n",
      "[10 20 30 40 50 60]\n",
      "[ 2  4  6  8 10 12]\n",
      "int32\n",
      "[1 2 3 4 5 6]\n",
      "int64\n",
      "(6,)\n",
      "[[1 2 3]\n",
      " [4 5 6]]\n"
     ]
    }
   ],
   "source": [
    "import numpy as np\n",
    "ary = np.array([1,2,3,4,5,6])\n",
    "ary1 = np.array([1,2,3,4,5])\n",
    "print(ary, type(ary))\n",
    "print(ary * 10)\n",
    "print(ary + ary)\n",
    "print(ary.dtype)\n",
    "ary = ary.astype(np.int64)\n",
    "print(ary)\n",
    "print(ary.dtype)\n",
    "print(ary.shape)\n",
    "ary.shape = (2,3)\n",
    "print(ary)\n",
    "# print(ary * ary1) # 数组长度不同，会报错"
   ]
  },
  {
   "cell_type": "markdown",
   "metadata": {},
   "source": [
    "np.arange(起始值（0），终止值，步长（1）)"
   ]
  },
  {
   "cell_type": "code",
   "execution_count": 15,
   "metadata": {},
   "outputs": [
    {
     "name": "stdout",
     "output_type": "stream",
     "text": [
      "[0 1 2 3 4]\n",
      "[0 2 4 6 8]\n"
     ]
    }
   ],
   "source": [
    "import numpy as np\n",
    "a = np.arange(0, 5, 1)\n",
    "print(a)\n",
    "b = np.arange(0, 10, 2)\n",
    "print(b)"
   ]
  },
  {
   "cell_type": "markdown",
   "metadata": {},
   "source": [
    "np.zeros(数组元素个数，dtype='类型')"
   ]
  },
  {
   "cell_type": "code",
   "execution_count": 21,
   "metadata": {},
   "outputs": [
    {
     "name": "stdout",
     "output_type": "stream",
     "text": [
      "[0 0 0 0 0 0 0 0 0 0]\n",
      "[[0 0 0]\n",
      " [0 0 0]]\n",
      "[[1 1 1]\n",
      " [1 1 1]]\n"
     ]
    }
   ],
   "source": [
    "import numpy as np\n",
    "a = np.zeros(10, dtype='int32')\n",
    "print(a)\n",
    "a1 = np.array([[1,2,3],[4,5,6]])\n",
    "a2 = np.zeros_like(a1)\n",
    "a3 = np.ones_like(a1)\n",
    "print(a2)\n",
    "print(a3)"
   ]
  },
  {
   "cell_type": "markdown",
   "metadata": {},
   "source": [
    "np.ones(数组元素个数，dtype='类型')"
   ]
  },
  {
   "cell_type": "code",
   "execution_count": 17,
   "metadata": {},
   "outputs": [
    {
     "name": "stdout",
     "output_type": "stream",
     "text": [
      "[1. 1. 1. 1. 1. 1. 1. 1. 1. 1.]\n"
     ]
    }
   ],
   "source": [
    "import numpy as np\n",
    "a = np.ones(10, dtype='float32')\n",
    "print(a)"
   ]
  },
  {
   "cell_type": "markdown",
   "metadata": {},
   "source": [
    "## 数组元素索引（下标）\n",
    "数组对象[...,页号,行号,列号]\n",
    "下标从0开始，到数组len-1结束。"
   ]
  },
  {
   "cell_type": "code",
   "execution_count": 2,
   "metadata": {},
   "outputs": [
    {
     "name": "stdout",
     "output_type": "stream",
     "text": [
      "[[[1 2]\n",
      "  [3 4]]\n",
      "\n",
      " [[5 6]\n",
      "  [7 8]]] (2, 2, 2)\n",
      "[[1 2]\n",
      " [3 4]]\n",
      "[1 2]\n",
      "1\n",
      "1\n",
      "1 2 3 4 5 6 7 8 "
     ]
    }
   ],
   "source": [
    "import numpy as np\n",
    "a = np.array([[[1,2],[3,4]],[[5,6],[7,8]]])\n",
    "print(a, a.shape)\n",
    "print(a[0])\n",
    "print(a[0][0])\n",
    "print(a[0][0][0])\n",
    "print(a[0,0,0])\n",
    "for i in range(a.shape[0]):\n",
    "    for j in range(a.shape[1]):\n",
    "        for k in range(a.shape[2]):\n",
    "            print(a[i,j,k], end=' ')"
   ]
  },
  {
   "cell_type": "markdown",
   "metadata": {},
   "source": [
    "## Numpy的内部基本数据类型\n",
    "1. 布尔型 bool_\n",
    "2. 有符号整型 int8(-128~127)/int16/int32/int64\n",
    "3. 无符号整型 uint8(0~255)/uint16/uint32/uint64\n",
    "4. 浮点型 float16/float32/float64\n",
    "5. 复数型 complex64/complex128\n",
    "6. 字符串 str_,每个字符用32位Unicode编码表示"
   ]
  }
 ],
 "metadata": {
  "interpreter": {
   "hash": "485035c5b2a6f2b50dc2dc5ca51aeeb931032fbc9adc2e30c7c528d6bf8a9176"
  },
  "kernelspec": {
   "display_name": "Python 3.9.7 ('base')",
   "language": "python",
   "name": "python3"
  },
  "language_info": {
   "codemirror_mode": {
    "name": "ipython",
    "version": 3
   },
   "file_extension": ".py",
   "mimetype": "text/x-python",
   "name": "python",
   "nbconvert_exporter": "python",
   "pygments_lexer": "ipython3",
   "version": "3.9.7"
  },
  "orig_nbformat": 4
 },
 "nbformat": 4,
 "nbformat_minor": 2
}
